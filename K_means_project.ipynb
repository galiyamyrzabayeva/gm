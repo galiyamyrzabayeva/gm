{
  "cells": [
    {
      "cell_type": "markdown",
      "metadata": {
        "id": "view-in-github",
        "colab_type": "text"
      },
      "source": [
        "<a href=\"https://colab.research.google.com/github/galiyamyrzabayeva/gm/blob/main/K_means_project.ipynb\" target=\"_parent\"><img src=\"https://colab.research.google.com/assets/colab-badge.svg\" alt=\"Open In Colab\"/></a>"
      ]
    },
    {
      "cell_type": "code",
      "execution_count": null,
      "metadata": {
        "colab": {
          "base_uri": "https://localhost:8080/",
          "height": 350
        },
        "id": "yBXvQuHN3AdV",
        "outputId": "498c6927-6a3d-4d72-b976-fedf69ac1761"
      },
      "outputs": [
        {
          "name": "stdout",
          "output_type": "stream",
          "text": [
            "[[6.25548233 3.80711528 4.05233424 1.67708161]\n",
            " [6.50723937 2.88067303 1.14564704 1.43231819]\n",
            " [5.48200114 3.20917864 3.58210655 0.69438816]]\n",
            "39 50 61\n"
          ]
        },
        {
          "data": {
            "image/png": "[encoded data removed]",
            "text/plain": [
              "<Figure size 432x288 with 1 Axes>"
            ]
          },
          "metadata": {},
          "output_type": "display_data"
        }
      ],
      "source": [
        "#Euclidean distance\n",
        "import numpy as np\n",
        "import pandas as pd\n",
        "import matplotlib.pyplot as plt\n",
        "from sklearn.datasets import load_iris\n",
        "from sklearn.cluster import KMeans\n",
        "from copy import deepcopy\n",
        "%matplotlib inline\n",
        "\n",
        "dataset = load_iris()\n",
        "Data = dataset['data']\n",
        "Target = dataset['target']\n",
        "\n",
        "# Number of training data\n",
        "n = Data.shape[0]\n",
        "# Number of features in the data\n",
        "m = Data.shape[1]\n",
        "# Number of clusters\n",
        "C = 3\n",
        "\n",
        "# Generate random centers, here we use sigma and mean to ensure it represent the whole data\n",
        "std = np.std(Data, axis = 0)\n",
        "mean = np.mean(Data, axis = 0)\n",
        "centers = np.random.randn(C,m)*std + mean\n",
        "clust = np.zeros(n)\n",
        "dist = np.zeros((n,C))\n",
        "print(centers)\n",
        "centersOld = np.zeros(centers.shape) # to store old centers\n",
        "centersNew = deepcopy(centers) # Store new centers\n",
        "\n",
        "er = np.linalg.norm(centersNew - centersOld)\n",
        "\n",
        "# When, after an update, the estimate of that center stays the same, exit loop\n",
        "while er != 0:\n",
        "    # Measure the distance to every center\n",
        "    for i in range(C):\n",
        "        dist[:,i] = np.linalg.norm(Data - centersNew[i], axis=1)\n",
        "    # Assign all training data to closest center\n",
        "    clust = np.argmin(dist, axis = 1)\n",
        "    \n",
        "    centersOld = deepcopy(centersNew)\n",
        "    # Calculate mean for every cluster and update the center\n",
        "    for i in range(C):\n",
        "        centersNew[i] = np.mean(Data[clust == i], axis=0)\n",
        "    er = np.linalg.norm(centersNew - centersOld)\n",
        "\n",
        "# Plot the data\n",
        "dataColor=['yellow', 'blue', 'red']\n",
        "for i in range(n):\n",
        "    plt.scatter(Data[i, 0], Data[i,1], s=10, color = dataColor[int(clust[i])])\n",
        "plt.title('Euclidean distance')\n",
        "plt.scatter(centersNew[:,0], centersNew[:,1], marker='+', c='k', s=100)\n",
        "c1=0\n",
        "c2=0\n",
        "c3=0\n",
        "for i in range(n):\n",
        "  if clust[i]==0:\n",
        "    c1=c1+1\n",
        "  elif clust[i]==1:\n",
        "    c2=c2+1\n",
        "  elif clust[i]==2:\n",
        "    c3=c3+1\n",
        "print(c1,c2,c3)"
      ]
    },
    {
      "cell_type": "code",
      "execution_count": null,
      "metadata": {
        "colab": {
          "base_uri": "https://localhost:8080/",
          "height": 298
        },
        "id": "epxGlJ8yF69n",
        "outputId": "fc0c6633-7404-412a-ba4b-ae10859f4710"
      },
      "outputs": [
        {
          "name": "stdout",
          "output_type": "stream",
          "text": [
            "63 37 50\n"
          ]
        },
        {
          "data": {
            "image/png": "[encoded data removed]",
            "text/plain": [
              "<Figure size 432x288 with 1 Axes>"
            ]
          },
          "metadata": {},
          "output_type": "display_data"
        }
      ],
      "source": [
        "#Manhattan distance\n",
        "import numpy as np\n",
        "import pandas as pd\n",
        "import matplotlib.pyplot as plt\n",
        "from sklearn.datasets import load_iris\n",
        "from sklearn.cluster import KMeans\n",
        "from copy import deepcopy\n",
        "%matplotlib inline\n",
        "\n",
        "dataset = load_iris()\n",
        "Data = dataset['data']#.reshape(300,2)\n",
        "Target = dataset['target']\n",
        "\n",
        "# Number of training data\n",
        "n = Data.shape[0]\n",
        "# Number of features in the data\n",
        "m = Data.shape[1]\n",
        "# Number of clusters\n",
        "C = 3\n",
        "\n",
        "# Generate random centers, here we use sigma and mean to ensure it represent the whole data\n",
        "std = np.std(Data, axis = 0)\n",
        "mean = np.mean(Data, axis = 0)\n",
        "centers = np.random.randn(C,m)*std + mean\n",
        "clust = np.zeros(n)\n",
        "dist = np.zeros((n,C))\n",
        "\n",
        "centersOld = np.zeros(centers.shape) # to store old centers\n",
        "centersNew = deepcopy(centers) # Store new centers\n",
        "\n",
        "er = np.linalg.norm(centersNew - centersOld)\n",
        "\n",
        "# When, after an update, the estimate of that center stays the same, exit loop\n",
        "while er != 0:\n",
        "    # Measure the distance to every center\n",
        "    for i in range(C):\n",
        "        for j in range(n): \n",
        "          dist[j,i] = np.sum(abs(Data[j]-centersNew[i]))\n",
        "    # Assign all training data to closest center\n",
        "    clust = np.argmin(dist, axis = 1)\n",
        "    \n",
        "    centersOld = deepcopy(centersNew)\n",
        "    # Calculate mean for every cluster and update the center\n",
        "    for i in range(C):\n",
        "        centersNew[i] = np.mean(Data[clust == i], axis=0)\n",
        "    er = np.linalg.norm(centersNew - centersOld)\n",
        "\n",
        "# Plot the data\n",
        "dataColor=['yellow', 'blue', 'red']\n",
        "for i in range(n):\n",
        "    plt.scatter(Data[i, 0], Data[i,1], s=10, color = dataColor[int(clust[i])])\n",
        "plt.title('Manhattan distance')\n",
        "plt.scatter(centersNew[:,0], centersNew[:,1], marker='+', c='k', s=100)\n",
        "c1=0\n",
        "c2=0\n",
        "c3=0\n",
        "for i in range(n):\n",
        "  if clust[i]==0:\n",
        "    c1=c1+1\n",
        "  elif clust[i]==1:\n",
        "    c2=c2+1\n",
        "  elif clust[i]==2:\n",
        "    c3=c3+1\n",
        "print(c1,c2,c3)"
      ]
    },
    {
      "cell_type": "code",
      "execution_count": 3,
      "metadata": {
        "colab": {
          "base_uri": "https://localhost:8080/",
          "height": 298
        },
        "id": "zvStXGClHzvY",
        "outputId": "c22fc124-7c07-41fd-b690-66f3028e095a"
      },
      "outputs": [
        {
          "output_type": "stream",
          "name": "stdout",
          "text": [
            "39 61 50\n"
          ]
        },
        {
          "output_type": "display_data",
          "data": {
            "image/png": "[encoded data removed]",
            "text/plain": [
              "<Figure size 432x288 with 1 Axes>"
            ]
          },
          "metadata": {
            "needs_background": "light"
          }
        }
      ],
      "source": [
        "#Minkowski 4 distance\n",
        "import numpy as np\n",
        "import pandas as pd\n",
        "import matplotlib.pyplot as plt\n",
        "from sklearn.datasets import load_iris\n",
        "from sklearn.cluster import KMeans\n",
        "from copy import deepcopy\n",
        "%matplotlib inline\n",
        "\n",
        "dataset = load_iris()\n",
        "Data = dataset['data']#.reshape(300,2)\n",
        "Target = dataset['target']\n",
        "\n",
        "# Number of training data\n",
        "n = Data.shape[0]\n",
        "# Number of features in the data\n",
        "m = Data.shape[1]\n",
        "# Number of clusters\n",
        "C = 3\n",
        "\n",
        "# Generate random centers, here we use sigma and mean to ensure it represent the whole data\n",
        "std = np.std(Data, axis = 0)\n",
        "mean = np.mean(Data, axis = 0)\n",
        "centers = np.random.randn(C,m)*std + mean\n",
        "clust = np.zeros(n)\n",
        "dist = np.zeros((n,C))\n",
        "\n",
        "centersOld = np.zeros(centers.shape) # to store old centers\n",
        "centersNew = deepcopy(centers) # Store new centers\n",
        "\n",
        "er = np.linalg.norm(centersNew - centersOld)\n",
        "\n",
        "# When, after an update, the estimate of that center stays the same, exit loop\n",
        "while er != 0:\n",
        "    # Measure the distance to every center\n",
        "    for i in range(C):\n",
        "        for j in range(n): \n",
        "          dist[j,i] = (np.sum(abs(Data[j]-centersNew[i])**4))**0.25\n",
        "    # Assign all training data to closest center\n",
        "    clust = np.argmin(dist, axis = 1)\n",
        "    \n",
        "    centersOld = deepcopy(centersNew)\n",
        "    # Calculate mean for every cluster and update the center\n",
        "    for i in range(C):\n",
        "        centersNew[i] = np.mean(Data[clust == i], axis=0)\n",
        "    er = np.linalg.norm(centersNew - centersOld)\n",
        "\n",
        "# Plot the data\n",
        "dataColor=['yellow', 'blue', 'red']\n",
        "for i in range(n):\n",
        "    plt.scatter(Data[i, 0], Data[i,1], s=10, color = dataColor[int(clust[i])])\n",
        "plt.title('Minkowski4 distance')\n",
        "plt.scatter(centersNew[:,0], centersNew[:,1], marker='+', c='k', s=100)\n",
        "c1=0\n",
        "c2=0\n",
        "c3=0\n",
        "for i in range(n):\n",
        "  if clust[i]==0:\n",
        "    c1=c1+1\n",
        "  elif clust[i]==1:\n",
        "    c2=c2+1\n",
        "  elif clust[i]==2:\n",
        "    c3=c3+1\n",
        "print(c1,c2,c3)"
      ]
    },
    {
      "cell_type": "code",
      "execution_count": null,
      "metadata": {
        "colab": {
          "base_uri": "https://localhost:8080/",
          "height": 298
        },
        "id": "K8ZRQgJeIYds",
        "outputId": "59bd60e8-4210-4d7b-a289-8407705908a1"
      },
      "outputs": [
        {
          "name": "stdout",
          "output_type": "stream",
          "text": [
            "50 50 50\n"
          ]
        },
        {
          "data": {
            "image/png": "[encoded data removed]",
            "text/plain": [
              "<Figure size 432x288 with 1 Axes>"
            ]
          },
          "metadata": {},
          "output_type": "display_data"
        }
      ],
      "source": [
        "#Original dataset\n",
        "import numpy as np\n",
        "import pandas as pd\n",
        "import matplotlib.pyplot as plt\n",
        "from sklearn.cluster import KMeans\n",
        "from sklearn.datasets import load_iris\n",
        "%matplotlib inline\n",
        "\n",
        "dataset = load_iris()\n",
        "Data = dataset['data']\n",
        "Target = dataset['target']\n",
        "\n",
        "# Number of training data\n",
        "n = Data.shape[0]\n",
        "# Number of features in the data\n",
        "m = Data.shape[1]\n",
        "\n",
        "c1=0\n",
        "c2=0\n",
        "c3=0\n",
        "for i in range(n):\n",
        "  if Target[i]==0:\n",
        "    c1=c1+1\n",
        "  elif Target[i]==1:\n",
        "    c2=c2+1\n",
        "  elif Target[i]==2:\n",
        "    c3=c3+1\n",
        "# Plot the data\n",
        "dataColor=['yellow', 'blue', 'red']\n",
        "for i in range(n):\n",
        "    plt.scatter(Data[i, 0], Data[i,1], s=10, color = dataColor[int(Target[i])])\n",
        "plt.title('Original Dataset')\n",
        "print(c1,c2,c3)"
      ]
    }
  ],
  "metadata": {
    "colab": {
      "name": "K-means project.ipynb",
      "provenance": [],
      "authorship_tag": "ABX9TyN3XyN1j7NKL5dGjVejbycf",
      "include_colab_link": true
    },
    "kernelspec": {
      "display_name": "Python 3",
      "name": "python3"
    },
    "language_info": {
      "name": "python"
    }
  },
  "nbformat": 4,
  "nbformat_minor": 0
}